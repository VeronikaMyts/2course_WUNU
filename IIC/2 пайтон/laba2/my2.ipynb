{
 "cells": [
  {
   "cell_type": "code",
   "execution_count": 10,
   "metadata": {},
   "outputs": [],
   "source": [
    "import numpy as np  \n",
    "\n",
    "from scipy import stats \n",
    "\n",
    "import matplotlib.pyplot as plt  \n",
    "\n",
    "import pandas as pd \n",
    "\n",
    "%matplotlib inline \n",
    "\n",
    "set_1 = pd.read_csv('bots/activity_botscore.csv', low_memory=False) "
   ]
  },
  {
   "cell_type": "code",
   "execution_count": 11,
   "metadata": {},
   "outputs": [
    {
     "name": "stdout",
     "output_type": "stream",
     "text": [
      "TtestResult(statistic=19.26390500403864, pvalue=4.651151581798495e-78, df=2999)\n"
     ]
    }
   ],
   "source": [
    "sample = set_1['count'].sample(n=3000)  \n",
    "\n",
    "print(stats.ttest_1samp(sample, 0.05)) "
   ]
  },
  {
   "cell_type": "code",
   "execution_count": 12,
   "metadata": {},
   "outputs": [
    {
     "data": {
      "text/plain": [
       "(11190, 5)"
      ]
     },
     "execution_count": 12,
     "metadata": {},
     "output_type": "execute_result"
    }
   ],
   "source": [
    "set_1.shape "
   ]
  },
  {
   "cell_type": "code",
   "execution_count": 13,
   "metadata": {},
   "outputs": [
    {
     "name": "stdout",
     "output_type": "stream",
     "text": [
      "TtestResult(statistic=25.83895339712728, pvalue=1.444881314078957e-142, df=9998.0)\n"
     ]
    }
   ],
   "source": [
    "print(stats.ttest_ind(set_1['count'].sample(n=5000),  \n",
    "\n",
    "                      set_1['activity'].sample(n=5000)))"
   ]
  },
  {
   "cell_type": "code",
   "execution_count": 14,
   "metadata": {},
   "outputs": [
    {
     "name": "stdout",
     "output_type": "stream",
     "text": [
      "TtestResult(statistic=165.3905868845287, pvalue=0.0, df=19998.0)\n"
     ]
    }
   ],
   "source": [
    "print(stats.ttest_ind(set_1['user_id'].sample(n=10000),  \n",
    "\n",
    "                      set_1['age'].sample(n=10000)))"
   ]
  },
  {
   "cell_type": "code",
   "execution_count": 15,
   "metadata": {},
   "outputs": [
    {
     "name": "stdout",
     "output_type": "stream",
     "text": [
      "TtestResult(statistic=-138.27779734374263, pvalue=0.0, df=6999)\n"
     ]
    }
   ],
   "source": [
    "control = set_1['age'].sample(n=7000) \n",
    "\n",
    "treatment = set_1['user_id'].sample(n=7000) \n",
    "\n",
    "print(stats.ttest_rel(control, treatment)) "
   ]
  }
 ],
 "metadata": {
  "kernelspec": {
   "display_name": "Python 3",
   "language": "python",
   "name": "python3"
  },
  "language_info": {
   "codemirror_mode": {
    "name": "ipython",
    "version": 3
   },
   "file_extension": ".py",
   "mimetype": "text/x-python",
   "name": "python",
   "nbconvert_exporter": "python",
   "pygments_lexer": "ipython3",
   "version": "3.11.8"
  }
 },
 "nbformat": 4,
 "nbformat_minor": 2
}
