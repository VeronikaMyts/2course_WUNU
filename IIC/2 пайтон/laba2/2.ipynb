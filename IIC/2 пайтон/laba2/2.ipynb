{
 "cells": [
  {
   "cell_type": "code",
   "execution_count": 176,
   "metadata": {},
   "outputs": [],
   "source": [
    "from scipy import stats \n",
    "\n",
    "population = stats.norm.rvs(loc=2, scale=5, size=100000) "
   ]
  },
  {
   "cell_type": "code",
   "execution_count": 177,
   "metadata": {},
   "outputs": [],
   "source": [
    "import numpy as np  \n",
    "\n",
    "sample_size = 100 \n",
    "\n",
    "sample = np.random.choice(a = population, size = sample_size) "
   ]
  },
  {
   "cell_type": "code",
   "execution_count": 178,
   "metadata": {},
   "outputs": [],
   "source": [
    "sample_mean = sample.mean() \n",
    "\n",
    "st_dev = population.std() "
   ]
  },
  {
   "cell_type": "code",
   "execution_count": 179,
   "metadata": {},
   "outputs": [
    {
     "name": "stdout",
     "output_type": "stream",
     "text": [
      "z-value:right 1.959963984540054\n"
     ]
    }
   ],
   "source": [
    "z_value = stats.norm.ppf(q = 0.975) \n",
    "\n",
    "print('z-value:right', z_value) \n"
   ]
  },
  {
   "cell_type": "code",
   "execution_count": 180,
   "metadata": {},
   "outputs": [
    {
     "name": "stdout",
     "output_type": "stream",
     "text": [
      "z-value:left -1.9599639845400545\n"
     ]
    }
   ],
   "source": [
    "z_value = stats.norm.ppf(q = 0.025) \n",
    "\n",
    "print(\"z-value:left\", z_value) "
   ]
  },
  {
   "cell_type": "code",
   "execution_count": 181,
   "metadata": {},
   "outputs": [
    {
     "name": "stdout",
     "output_type": "stream",
     "text": [
      "Confidence interval: (3.2252005398565275, 1.2716410271628984)\n"
     ]
    }
   ],
   "source": [
    "interval = z_value * (st_dev/np.sqrt(sample_size)) \n",
    "\n",
    "conf_inv = (sample_mean - interval, sample_mean + interval) \n",
    "\n",
    "print(\"Confidence interval:\", conf_inv) "
   ]
  },
  {
   "cell_type": "code",
   "execution_count": 182,
   "metadata": {},
   "outputs": [],
   "source": [
    "def compute_ci(sample, st_dev): \n",
    "\n",
    "    z_value = stats.norm.ppf(q = 0.975) \n",
    "\n",
    "    sample_size = len(sample) \n",
    "\n",
    "    interval = z_value * (st_dev/np.sqrt(sample_size)) \n",
    "\n",
    "    conf_inv = (sample_mean - interval, sample_mean + interval) \n",
    "\n",
    "    return conf_inv "
   ]
  },
  {
   "cell_type": "code",
   "execution_count": 183,
   "metadata": {},
   "outputs": [
    {
     "name": "stdout",
     "output_type": "stream",
     "text": [
      "conf interval for 2000 sample size: (2.030006190085997, 2.466835376933429)\n"
     ]
    }
   ],
   "source": [
    "np.random.seed(5)  \n",
    "\n",
    "sample_size = 2000 \n",
    "\n",
    "sample = np.random.choice(a = population, size = sample_size)  \n",
    "\n",
    "ci = compute_ci(sample, st_dev) \n",
    "\n",
    "print(\"conf interval for 2000 sample size:\", ci) "
   ]
  },
  {
   "cell_type": "code",
   "execution_count": 184,
   "metadata": {},
   "outputs": [
    {
     "name": "stdout",
     "output_type": "stream",
     "text": [
      "conf interval with t test for 2000 sample size: (0.7472781006990972, 4.933961890190334)\n"
     ]
    }
   ],
   "source": [
    "def compute_ci_t(sample, alpha=0.95): \n",
    "\n",
    "    n = sample.shape[0] \n",
    "\n",
    "    mu, se = np.mean(sample), stats.sem(sample)  \n",
    "\n",
    "    bound = se * stats.t.ppf((1 + alpha) / 2., n-1) \n",
    "\n",
    "    return mu - bound, mu + bound \n",
    "\n",
    "sample = np.random.choice(a = population, size = 30) \n",
    "\n",
    "ci_t = compute_ci_t(sample, alpha=0.95) \n",
    "\n",
    "print(\"conf interval with t test for 2000 sample size:\", ci_t) "
   ]
  },
  {
   "cell_type": "code",
   "execution_count": 185,
   "metadata": {},
   "outputs": [],
   "source": [
    "import pandas as pd  \n",
    "\n",
    "import numpy as np \n",
    "\n",
    "taxi_mex = pd.read_csv('taxi-route/mex_clean.csv') \n",
    "\n",
    " \n",
    "\n",
    "def generate_distribution_sample(data, sample_size, dist_size):  \n",
    "\n",
    "    sample_means = [] \n",
    "\n",
    "    for i in range(dist_size): \n",
    "\n",
    "        sample = np.random.choice(a = data, size = sample_size)  \n",
    "\n",
    "        sample_means.append(np.mean(sample)) \n",
    "\n",
    "    return sample_means\n",
    " \n",
    "sample_size = 10000 \n",
    "\n",
    "dist_size = 50000 \n",
    "\n",
    "sample_means = generate_distribution_sample(taxi_mex['dist_meters']/1000, sample_size, dist_size) \n",
    " "
   ]
  },
  {
   "cell_type": "code",
   "execution_count": 186,
   "metadata": {},
   "outputs": [
    {
     "data": {
      "image/png": "[encoded data removed]",
      "text/plain": [
       "<Figure size 640x480 with 1 Axes>"
      ]
     },
     "metadata": {},
     "output_type": "display_data"
    }
   ],
   "source": [
    "import matplotlib.pyplot as plt  \n",
    "\n",
    "plt.hist(sample_means, bins=100)  \n",
    "\n",
    "plt.xlabel('distance in km')  \n",
    "\n",
    "plt.show() "
   ]
  },
  {
   "cell_type": "code",
   "execution_count": 187,
   "metadata": {},
   "outputs": [
    {
     "name": "stdout",
     "output_type": "stream",
     "text": [
      "conf interval for bootstrap: (6.461480464999999, 6.9035547875)\n"
     ]
    }
   ],
   "source": [
    "np.sort(sample_means) \n",
    "\n",
    "lb = np.percentile(sample_means, 2.5) \n",
    "\n",
    "ub = np.percentile(sample_means, 97.5) \n",
    "\n",
    "print(\"conf interval for bootstrap:\", (lb, ub)) "
   ]
  }
 ],
 "metadata": {
  "kernelspec": {
   "display_name": "Python 3",
   "language": "python",
   "name": "python3"
  },
  "language_info": {
   "codemirror_mode": {
    "name": "ipython",
    "version": 3
   },
   "file_extension": ".py",
   "mimetype": "text/x-python",
   "name": "python",
   "nbconvert_exporter": "python",
   "pygments_lexer": "ipython3",
   "version": "3.11.8"
  }
 },
 "nbformat": 4,
 "nbformat_minor": 2
}
