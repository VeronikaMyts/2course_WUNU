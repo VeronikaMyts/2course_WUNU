{
 "cells": [
  {
   "cell_type": "code",
   "execution_count": 4,
   "metadata": {},
   "outputs": [],
   "source": [
    "import numpy as np  \n",
    "\n",
    "from scipy import stats \n",
    "\n",
    "import matplotlib.pyplot as plt  \n",
    "\n",
    "import pandas as pd \n",
    "\n",
    "%matplotlib inline \n",
    "\n",
    "taxi_bog = pd.read_csv('taxi-route/bog_clean.csv')  \n",
    "\n",
    "taxi_mex = pd.read_csv('taxi-route/mex_clean.csv') "
   ]
  },
  {
   "cell_type": "code",
   "execution_count": 5,
   "metadata": {},
   "outputs": [
    {
     "name": "stdout",
     "output_type": "stream",
     "text": [
      "TtestResult(statistic=1.3447271771193474, pvalue=0.17881504465723616, df=2999)\n"
     ]
    }
   ],
   "source": [
    "sample = taxi_mex['wait_sec'].sample(n=3000)/60  \n",
    "\n",
    "print(stats.ttest_1samp(sample, 10)) "
   ]
  },
  {
   "cell_type": "code",
   "execution_count": 6,
   "metadata": {},
   "outputs": [
    {
     "data": {
      "text/plain": [
       "(12694, 13)"
      ]
     },
     "execution_count": 6,
     "metadata": {},
     "output_type": "execute_result"
    }
   ],
   "source": [
    "taxi_mex['pickup_datetime'] = pd.to_datetime(taxi_mex.pickup_datetime)  \n",
    "\n",
    "taxi_mex['month'] = taxi_mex['pickup_datetime'].dt.month  \n",
    "\n",
    "taxi_bog.shape \n",
    "\n",
    "taxi_mex.shape "
   ]
  },
  {
   "cell_type": "code",
   "execution_count": 7,
   "metadata": {},
   "outputs": [
    {
     "name": "stdout",
     "output_type": "stream",
     "text": [
      "TtestResult(statistic=-6.264797811932168, pvalue=3.992386933352566e-10, df=5998.0)\n"
     ]
    }
   ],
   "source": [
    "print(stats.ttest_ind(taxi_mex['trip_duration'].sample(n=3000),  \n",
    "\n",
    "                      taxi_bog['trip_duration'].sample(n=3000))) "
   ]
  },
  {
   "cell_type": "code",
   "execution_count": 8,
   "metadata": {},
   "outputs": [
    {
     "name": "stdout",
     "output_type": "stream",
     "text": [
      "TtestResult(statistic=0.10094845519477116, pvalue=0.9195947519289975, df=5998.0)\n"
     ]
    }
   ],
   "source": [
    "print(stats.ttest_ind(taxi_mex['wait_sec'].sample(n=3000),  \n",
    "\n",
    "                      taxi_bog['wait_sec'].sample(n=3000)))"
   ]
  },
  {
   "cell_type": "code",
   "execution_count": 9,
   "metadata": {},
   "outputs": [
    {
     "name": "stdout",
     "output_type": "stream",
     "text": [
      "TtestResult(statistic=-0.8933329639949057, pvalue=0.3718940370331828, df=999)\n"
     ]
    }
   ],
   "source": [
    "control=taxi_mex[taxi_mex.month == 11]['trip_duration'].sample(n=1000) \n",
    "\n",
    "treatment = taxi_mex[taxi_mex.month == 12]['trip_duration'].sample(n=1000) \n",
    "\n",
    "print(stats.ttest_rel(control, treatment)) "
   ]
  }
 ],
 "metadata": {
  "kernelspec": {
   "display_name": "Python 3",
   "language": "python",
   "name": "python3"
  },
  "language_info": {
   "codemirror_mode": {
    "name": "ipython",
    "version": 3
   },
   "file_extension": ".py",
   "mimetype": "text/x-python",
   "name": "python",
   "nbconvert_exporter": "python",
   "pygments_lexer": "ipython3",
   "version": "3.11.8"
  }
 },
 "nbformat": 4,
 "nbformat_minor": 2
}
